{
 "cells": [
  {
   "cell_type": "markdown",
   "metadata": {},
   "source": [
    "# Entire Serial Implementation with Wordlist"
   ]
  },
  {
   "cell_type": "code",
   "execution_count": null,
   "metadata": {},
   "outputs": [],
   "source": [
    "import sys\n",
    "import time\n",
    "\n",
    "def keyword_picker():\n",
    "    print(\"Enter the Key\")\n",
    "    keyword = input(\"Enter key: \").upper()\n",
    "    for i in range(len(keyword)):\n",
    "        pos = i\n",
    "        for j in range(len(keyword)):\n",
    "            if pos == j:\n",
    "                continue\n",
    "            elif keyword[i] == keyword[j]:\n",
    "                print(\"Letter {} repeating in keyword\".format(keyword[i]))\n",
    "                sys.exit()\n",
    "    temp = \"\"\n",
    "    for i in range(len(keyword)):\n",
    "        temp += keyword[i]\n",
    "    for i in range(26):\n",
    "        temp += chr(i+65)\n",
    "\n",
    "    alpha_with_key = \"\"\n",
    "    for i in range(len(temp)):\n",
    "        found = False\n",
    "        for j in range(len(alpha_with_key)):\n",
    "            if temp[i] == alpha_with_key[j]:\n",
    "                found = True\n",
    "                break\n",
    "        if not found:\n",
    "            alpha_with_key += temp[i]\n",
    "    return alpha_with_key\n",
    "\n",
    "\n",
    "def encryption(alpha_key, alpha,word):\n",
    "    message = word.upper()\n",
    "\n",
    "    encrypted_text = \"\"\n",
    "    for i in range(len(message)):\n",
    "        if message[i] == chr(32):\n",
    "            encrypted_text += \" \"\n",
    "        else:\n",
    "            counter = 0\n",
    "            for j in range(len(alpha)):\n",
    "                if message[i] == alpha[j]:\n",
    "                    encrypted_text += alpha_key[counter]\n",
    "                    break\n",
    "                else:\n",
    "                    counter += 1\n",
    "    #print(\"Encrypted Message: {}\".format(encrypted_text))\n",
    "\n",
    "\n",
    "def decryption(alpha_key, alpha,word):\n",
    "    \n",
    "    message = word.upper()\n",
    "\n",
    "    decrypted_text = \"\"\n",
    "    for i in range(len(message)):\n",
    "        if message[i] == chr(32):\n",
    "            decrypted_text += \" \"\n",
    "        else:\n",
    "            counter = 0\n",
    "            for j in range(len(alpha)):\n",
    "                if message[i] == alpha_key[j]:\n",
    "                    decrypted_text += alpha[counter]\n",
    "                    break\n",
    "                else:\n",
    "                    counter += 1\n",
    "    #print(\"Decrypted Text: {}\".format(decrypted_text))\n",
    "\n",
    "\n",
    "def main():     \n",
    "                \n",
    "    alpha = \"ABCDEFGHIJKLMNOPQRSTUVWXYZ\"\n",
    "    alpha_key = keyword_picker()\n",
    "\n",
    "    choice = int(input(\"1. Encryption\\n2. Decryption\\nChoose(1,2): \"))\n",
    "    \n",
    "    if choice == 1:\n",
    "        start_time = time.time()\n",
    "        print(\"---Encrypting---\")\n",
    "        with open('dataset.txt','r') as file:\n",
    "            enc=[encryption(alpha_key,alpha,word) for word in file.read().split()]\n",
    "        end_time=time.time()\n",
    "        print(\"Total number of words= \",len(enc))\n",
    "        print(\"Execution time= \",end_time-start_time)\n",
    "\n",
    "    elif choice == 2:\n",
    "        start_time = time.time()\n",
    "        print(\"---Decrypting---\")\n",
    "        with open('dataset.txt','r') as file:\n",
    "            dec=[encryption(alpha_key,alpha,word) for word in file.read().split()]\n",
    "        end_time=time.time()\n",
    "        print(\"Total number of words= \",len(dec))\n",
    "        print(\"Execution time= \",end_time-start_time)\n",
    "    else:\n",
    "        print(\"Incorrect Choice\")\n",
    "\n",
    "if __name__ == \"__main__\":\n",
    "    main()"
   ]
  },
  {
   "cell_type": "markdown",
   "metadata": {},
   "source": [
    "# Joblib"
   ]
  },
  {
   "cell_type": "code",
   "execution_count": null,
   "metadata": {},
   "outputs": [],
   "source": [
    "import sys\n",
    "import time\n",
    "import joblib\n",
    "import dask.dataframe as dd\n",
    "from joblib import Parallel, delayed\n",
    "\n",
    "def keyword_picker():\n",
    "    print(\"Enter the Key\")\n",
    "    keyword = input(\"Enter key: \").upper()\n",
    "    for i in range(len(keyword)):\n",
    "        pos = i\n",
    "        for j in range(len(keyword)):\n",
    "            if pos == j:\n",
    "                continue\n",
    "            elif keyword[i] == keyword[j]:\n",
    "                print(\"Letter {} repeating in keyword\".format(keyword[i]))\n",
    "                sys.exit()\n",
    "    temp = \"\"\n",
    "    for i in range(len(keyword)):\n",
    "        temp += keyword[i]\n",
    "    for i in range(26):\n",
    "        temp += chr(i+65)\n",
    "\n",
    "    alpha_with_key = \"\"\n",
    "    for i in range(len(temp)):\n",
    "        found = False\n",
    "        for j in range(len(alpha_with_key)):\n",
    "            if temp[i] == alpha_with_key[j]:\n",
    "                found = True\n",
    "                break\n",
    "        if not found:\n",
    "            alpha_with_key += temp[i]\n",
    "    return alpha_with_key\n",
    "\n",
    "\n",
    "def encryption(alpha_key, alpha,word):\n",
    "    message = word.upper()\n",
    "\n",
    "    encrypted_text = \"\"\n",
    "    for i in range(len(message)):\n",
    "        if message[i] == chr(32):\n",
    "            encrypted_text += \" \"\n",
    "        else:\n",
    "            counter = 0\n",
    "            for j in range(len(alpha)):\n",
    "                if message[i] == alpha[j]:\n",
    "                    encrypted_text += alpha_key[counter]\n",
    "                    break\n",
    "                else:\n",
    "                    counter += 1\n",
    "    return encrypted_text\n",
    "\n",
    "\n",
    "def decryption(alpha_key, alpha,word):\n",
    "    \n",
    "    message = word.upper()\n",
    "\n",
    "    decrypted_text = \"\"\n",
    "    for i in range(len(message)):\n",
    "        if message[i] == chr(32):\n",
    "            decrypted_text += \" \"\n",
    "        else:\n",
    "            counter = 0\n",
    "            for j in range(len(alpha)):\n",
    "                if message[i] == alpha_key[j]:\n",
    "                    decrypted_text += alpha[counter]\n",
    "                    break\n",
    "                else:\n",
    "                    counter += 1\n",
    "    return decrypted_text\n",
    "\n",
    "\n",
    "def main():     \n",
    "                \n",
    "    alpha = \"ABCDEFGHIJKLMNOPQRSTUVWXYZ\"\n",
    "    alpha_key = keyword_picker()\n",
    "\n",
    "    choice = int(input(\"1. Encryption\\n2. Decryption\\nChoose(1,2): \"))\n",
    "    \n",
    "    if choice == 1:\n",
    "        words=dd.read_csv('dataset.txt').repartition(npartitions=8)\n",
    "        start_time = time.time()\n",
    "        print(\"---Encrypting---\")\n",
    "        with open('dataset.txt','r') as file:\n",
    "            Parallel(8)(delayed(encryption)(alpha_key,alpha,word) for word in file.read().split())\n",
    "        end_time=time.time()\n",
    "        print(\"Execution time= \",end_time-start_time)\n",
    "\n",
    "    elif choice == 2:\n",
    "        words=dd.read_csv('dataset.txt').repartition(npartitions=8)\n",
    "        start_time = time.time()\n",
    "        print(\"---Decrypting---\")\n",
    "        words=words.apply(lambda x: decryption(alpha_key,alpha,str(x)),meta=('str'),axis=1).compute()\n",
    "        end_time=time.time()\n",
    "        print(\"Execution time= \",end_time-start_time)\n",
    "    else:\n",
    "        print(\"Incorrect Choice\")\n",
    "\n",
    "if __name__ == \"__main__\":\n",
    "    main()"
   ]
  },
  {
   "cell_type": "markdown",
   "metadata": {},
   "source": [
    "# Pandas Dataframe Implementation"
   ]
  },
  {
   "cell_type": "code",
   "execution_count": null,
   "metadata": {},
   "outputs": [],
   "source": [
    "import sys\n",
    "import time\n",
    "import pandas as pd\n",
    "\n",
    "def keyword_picker():\n",
    "    print(\"Enter the Key\")\n",
    "    keyword = input(\"Enter key: \").upper()\n",
    "    for i in range(len(keyword)):\n",
    "        pos = i\n",
    "        for j in range(len(keyword)):\n",
    "            if pos == j:\n",
    "                continue\n",
    "            elif keyword[i] == keyword[j]:\n",
    "                print(\"Letter {} repeating in keyword\".format(keyword[i]))\n",
    "                sys.exit()\n",
    "    temp = \"\"\n",
    "    for i in range(len(keyword)):\n",
    "        temp += keyword[i]\n",
    "    for i in range(26):\n",
    "        temp += chr(i+65)\n",
    "\n",
    "    alpha_with_key = \"\"\n",
    "    for i in range(len(temp)):\n",
    "        found = False\n",
    "        for j in range(len(alpha_with_key)):\n",
    "            if temp[i] == alpha_with_key[j]:\n",
    "                found = True\n",
    "                break\n",
    "        if not found:\n",
    "            alpha_with_key += temp[i]\n",
    "    return alpha_with_key\n",
    "\n",
    "\n",
    "def encryptionpd(alpha_key, alpha,word):\n",
    "    message = word.str.upper()\n",
    "    message.dropna(inplace=True)\n",
    "    for j in range(len(message)):\n",
    "        encrypted_text = \"\"\n",
    "        for i in range(len(message.loc[j])):\n",
    "            if message.loc[j][i] == chr(32):\n",
    "                encrypted_text += \" \"\n",
    "            else:\n",
    "                counter = 0\n",
    "                for k in range(len(alpha)):\n",
    "                    if message.loc[j][i] == alpha[k]:\n",
    "                        encrypted_text += alpha_key[counter]\n",
    "                        break\n",
    "                    else:\n",
    "                        counter += 1\n",
    "        message.loc[j]=encrypted_text\n",
    "    return message\n",
    "\n",
    "def decryptionpd(alpha_key, alpha,word):\n",
    "    \n",
    "    message = word.str.upper()\n",
    "\n",
    "    decrypted_text = \"\"\n",
    "    for j in range(len(message)):\n",
    "        encrypted_text = \"\"\n",
    "        for i in range(len(message)):\n",
    "            if message.loc[j][i] == chr(32):\n",
    "                decrypted_text += \" \"\n",
    "            else:\n",
    "                counter = 0\n",
    "                for k in range(len(alpha)):\n",
    "                    if message.loc[j][i] == alpha_key[k]:\n",
    "                        decrypted_text += alpha[counter]\n",
    "                        break\n",
    "                    else:\n",
    "                        counter += 1\n",
    "        message.loc[j]=decrypted_text\n",
    "    return message\n",
    "\n",
    "\n",
    "def main():     \n",
    "                \n",
    "    alpha = \"ABCDEFGHIJKLMNOPQRSTUVWXYZ\"\n",
    "    alpha_key = keyword_picker()\n",
    "\n",
    "    choice = int(input(\"1. Encryption\\n2. Decryption\\nChoose(1,2): \"))\n",
    "    \n",
    "    if choice == 1:\n",
    "        words=pd.read_table('dataset.txt')\n",
    "        start_time = time.time()\n",
    "        print(\"---Encrypting---\")\n",
    "        words=words.assign(enc=lambda x: encryptionpd(alpha_key,alpha,x.password))\n",
    "        end_time=time.time()\n",
    "        print(words)\n",
    "        print(\"Execution time= \",end_time-start_time)\n",
    "\n",
    "    elif choice == 2:\n",
    "        words=pd.read_table('dataset.txt')\n",
    "        start_time = time.time()\n",
    "        print(\"---Decrypting---\")\n",
    "        words=words.assign(enc=lambda x: decryptionpd(alpha_key,alpha,x))\n",
    "        end_time=time.time()\n",
    "        print(\"Execution time= \",end_time-start_time)\n",
    "    else:\n",
    "        print(\"Incorrect Choice\")\n",
    "\n",
    "if __name__ == \"__main__\":\n",
    "    main()"
   ]
  },
  {
   "cell_type": "markdown",
   "metadata": {},
   "source": [
    "#                                New code"
   ]
  },
  {
   "cell_type": "markdown",
   "metadata": {},
   "source": [
    "# Serial implementation"
   ]
  },
  {
   "cell_type": "code",
   "execution_count": 1,
   "metadata": {},
   "outputs": [
    {
     "name": "stdout",
     "output_type": "stream",
     "text": [
      "Wall time: 38.7 s\n"
     ]
    }
   ],
   "source": [
    "%%time\n",
    "valid_letters='abcdefghijklmnopqrstuvwxyz'\n",
    "user_key='keyword'\n",
    "key=''\n",
    "\n",
    "cipher=[]\n",
    "for char in user_key:\n",
    "    if char in valid_letters:\n",
    "            key+=char\n",
    "for char in valid_letters:\n",
    "    if char not in key:\n",
    "        key+=char\n",
    "        \n",
    "def encrypt(clear_text):\n",
    "    new_string=''\n",
    "    for char in clear_text:\n",
    "        if char in valid_letters:\n",
    "            new_string+=char\n",
    "    index_values=[valid_letters.index(char) for char in new_string]\n",
    "    return \"\".join(key[indexkey] for indexkey in index_values)\n",
    "with open('dataset.txt','r') as file:\n",
    "    for word in file.read().split():\n",
    "        encrypt(word.lower())\n",
    "\n"
   ]
  },
  {
   "cell_type": "code",
   "execution_count": null,
   "metadata": {},
   "outputs": [],
   "source": []
  },
  {
   "cell_type": "markdown",
   "metadata": {},
   "source": [
    "# Joblib"
   ]
  },
  {
   "cell_type": "code",
   "execution_count": 3,
   "metadata": {},
   "outputs": [
    {
     "name": "stdout",
     "output_type": "stream",
     "text": [
      "Wall time: 1min 47s\n"
     ]
    }
   ],
   "source": [
    "%%time\n",
    "from joblib import Parallel,delayed\n",
    "valid_letters='abcdefghijklmnopqrstuvwxyz'\n",
    "user_key='keyword'\n",
    "key=''\n",
    "\n",
    "cipher=[]\n",
    "for char in user_key:\n",
    "    if char in valid_letters:\n",
    "            key+=char\n",
    "for char in valid_letters:\n",
    "    if char not in key:\n",
    "        key+=char\n",
    "        \n",
    "def encrypt(clear_text):\n",
    "    new_string=''\n",
    "    for char in clear_text:\n",
    "        if char in valid_letters:\n",
    "            new_string+=char\n",
    "    index_values=[valid_letters.index(char) for char in new_string]\n",
    "    return \"\".join(key[indexkey] for indexkey in index_values)\n",
    "with open('dataset.txt','r') as file:\n",
    "            Parallel(12)(delayed(encrypt)(word) for word in file.read().split())        "
   ]
  },
  {
   "cell_type": "markdown",
   "metadata": {},
   "source": [
    "# Joblib with dask dataframe\n"
   ]
  },
  {
   "cell_type": "code",
   "execution_count": 22,
   "metadata": {
    "scrolled": false
   },
   "outputs": [
    {
     "name": "stdout",
     "output_type": "stream",
     "text": [
      "Wall time: 1min 19s\n"
     ]
    }
   ],
   "source": [
    "%%time\n",
    "\n",
    "import dask.dataframe as dd\n",
    "from joblib import Parallel,delayed\n",
    "valid_letters='abcdefghijklmnopqrstuvwxyz'\n",
    "user_key='keyword'\n",
    "key=''\n",
    "\n",
    "cipher=[]\n",
    "for char in user_key:\n",
    "    if char in valid_letters:\n",
    "            key+=char\n",
    "for char in valid_letters:\n",
    "    if char not in key:\n",
    "        key+=char\n",
    "        \n",
    "def encrypt(clear_text):\n",
    "    new_string=''\n",
    "    for char in clear_text:\n",
    "        if char in valid_letters:\n",
    "            new_string+=char\n",
    "\n",
    "words=dd.read_csv('dataset.txt').repartition(npartitions=12)\n",
    "x=Parallel(12)(delayed(encrypt)(str(word)) for word in words['password'])        \n",
    "    "
   ]
  },
  {
   "cell_type": "markdown",
   "metadata": {},
   "source": [
    "# Encryption"
   ]
  },
  {
   "cell_type": "markdown",
   "metadata": {},
   "source": [
    "# Serial"
   ]
  },
  {
   "cell_type": "code",
   "execution_count": 20,
   "metadata": {},
   "outputs": [
    {
     "name": "stdout",
     "output_type": "stream",
     "text": [
      "keywordabcfghijlmnpqstuvxz\n",
      "Wall time: 997 µs\n"
     ]
    }
   ],
   "source": [
    "%%time\n",
    "valid_letters='abcdefghijklmnopqrstuvwxyz'\n",
    "user_key='keyword'\n",
    "key=''\n",
    "\n",
    "cipher=[]\n",
    "for char in user_key:\n",
    "    if char in valid_letters:\n",
    "            key+=char\n",
    "for char in valid_letters:\n",
    "    if char not in key:\n",
    "        key+=char\n",
    "print(key)\n",
    "def decrypt(encrypted_text):\n",
    "    new_string=''\n",
    "    for char in encrypted_text:\n",
    "        if char in valid_letters:\n",
    "            new_string+=char\n",
    "    index_values=[key.index(char) for char in new_string]\n",
    "    print(index_values)\n",
    "    return \"\".join(valid_letters[indexkey] for indexkey in index_values)\n"
   ]
  },
  {
   "cell_type": "code",
   "execution_count": 21,
   "metadata": {},
   "outputs": [
    {
     "name": "stdout",
     "output_type": "stream",
     "text": [
      "[19, 7, 8, 18, 8, 18, 0, 18, 4, 2, 17, 4, 19, 12, 4, 18, 18, 0, 6, 4]\n"
     ]
    },
    {
     "data": {
      "text/plain": [
       "'thisisasecretmessage'"
      ]
     },
     "execution_count": 21,
     "metadata": {},
     "output_type": "execute_result"
    }
   ],
   "source": []
  },
  {
   "cell_type": "code",
   "execution_count": null,
   "metadata": {},
   "outputs": [],
   "source": []
  }
 ],
 "metadata": {
  "kernelspec": {
   "display_name": "Python 3",
   "language": "python",
   "name": "python3"
  },
  "language_info": {
   "codemirror_mode": {
    "name": "ipython",
    "version": 3
   },
   "file_extension": ".py",
   "mimetype": "text/x-python",
   "name": "python",
   "nbconvert_exporter": "python",
   "pygments_lexer": "ipython3",
   "version": "3.8.3"
  },
  "varInspector": {
   "cols": {
    "lenName": 16,
    "lenType": 16,
    "lenVar": 40
   },
   "kernels_config": {
    "python": {
     "delete_cmd_postfix": "",
     "delete_cmd_prefix": "del ",
     "library": "var_list.py",
     "varRefreshCmd": "print(var_dic_list())"
    },
    "r": {
     "delete_cmd_postfix": ") ",
     "delete_cmd_prefix": "rm(",
     "library": "var_list.r",
     "varRefreshCmd": "cat(var_dic_list()) "
    }
   },
   "types_to_exclude": [
    "module",
    "function",
    "builtin_function_or_method",
    "instance",
    "_Feature"
   ],
   "window_display": true
  }
 },
 "nbformat": 4,
 "nbformat_minor": 4
}
