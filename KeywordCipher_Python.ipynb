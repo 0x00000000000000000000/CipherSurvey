{
 "cells": [
  {
   "cell_type": "markdown",
   "metadata": {},
   "source": [
    "# Keyword Cipher (Serial)"
   ]
  },
  {
   "cell_type": "markdown",
   "metadata": {},
   "source": [
    "Link - https://www.geeksforgeeks.org/keyword-cipher/ \\\n",
    "Complete the decoding part "
   ]
  },
  {
   "cell_type": "code",
   "execution_count": null,
   "metadata": {},
   "outputs": [],
   "source": [
    "plaintext=\"ABCDEFGHIJKLMNOPQRSTUVWXYZ\"\n",
    "def encoder(key):\n",
    "    encoded=\"\"\n",
    "    bools=[0 for i in range(26)]\n",
    "    for i in range(len(key)):\n",
    "        if(key[i]>='A' && key[i]<='Z'):\n",
    "            if(bools[key[i]-65]==0):\n",
    "                encoded+=key[i]\n",
    "                bools[key[i]-65]=1\n",
    "        elif(key[i]>='a' && key[i]<='z'):\n",
    "            if(bools[key[i]-97]==0):\n",
    "                encoded+=key[i]-32\n",
    "                bools[key[i]-97]=1\n",
    "    for i in range(26):\n",
    "        if(bools[i]==0):\n",
    "            bools[i]=1\n",
    "            encoded+=chr(i+65)\n",
    "def decoder(msg,encoded):\n",
    "    enc=dict(chr(i) for i in range(65,91))"
   ]
  },
  {
   "cell_type": "code",
   "execution_count": 1,
   "metadata": {
    "ExecuteTime": {
     "end_time": "2021-03-16T08:20:27.911778Z",
     "start_time": "2021-03-16T08:20:23.110577Z"
    }
   },
   "outputs": [
    {
     "name": "stdout",
     "output_type": "stream",
     "text": [
      "['123456', '12345', '123456789', 'password', 'iloveyou', 'princess', '1234567', 'rockyou', '12345678', 'abc123']\n"
     ]
    }
   ],
   "source": [
    "with open('D:/Datasets/rockyou.txt','r',encoding='utf-8') as f:\n",
    "    words=[i.replace('\\n','') for i in f.readlines()]\n",
    "print(words[0:10])\n",
    "\n"
   ]
  },
  {
   "cell_type": "code",
   "execution_count": null,
   "metadata": {},
   "outputs": [],
   "source": []
  }
 ],
 "metadata": {
  "kernelspec": {
   "display_name": "Python 3",
   "language": "python",
   "name": "python3"
  },
  "language_info": {
   "codemirror_mode": {
    "name": "ipython",
    "version": 3
   },
   "file_extension": ".py",
   "mimetype": "text/x-python",
   "name": "python",
   "nbconvert_exporter": "python",
   "pygments_lexer": "ipython3",
   "version": "3.8.5"
  },
  "varInspector": {
   "cols": {
    "lenName": 16,
    "lenType": 16,
    "lenVar": 40
   },
   "kernels_config": {
    "python": {
     "delete_cmd_postfix": "",
     "delete_cmd_prefix": "del ",
     "library": "var_list.py",
     "varRefreshCmd": "print(var_dic_list())"
    },
    "r": {
     "delete_cmd_postfix": ") ",
     "delete_cmd_prefix": "rm(",
     "library": "var_list.r",
     "varRefreshCmd": "cat(var_dic_list()) "
    }
   },
   "types_to_exclude": [
    "module",
    "function",
    "builtin_function_or_method",
    "instance",
    "_Feature"
   ],
   "window_display": false
  }
 },
 "nbformat": 4,
 "nbformat_minor": 4
}
